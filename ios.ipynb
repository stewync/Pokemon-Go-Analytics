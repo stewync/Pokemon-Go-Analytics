{
 "cells": [
  {
   "cell_type": "code",
   "execution_count": 1,
   "metadata": {
    "collapsed": true
   },
   "outputs": [],
   "source": [
    "import os\n",
    "from bs4 import BeautifulSoup\n",
    "import urllib\n",
    "import glob\n",
    "from collections import defaultdict\n",
    "import datetime\n",
    "import pandas as pd\n",
    "import matplotlib\n",
    "import matplotlib.pyplot as plot\n",
    "from pandas.tools.plotting import scatter_matrix\n",
    "matplotlib.style.use('ggplot')"
   ]
  },
  {
   "cell_type": "code",
   "execution_count": 2,
   "metadata": {
    "collapsed": true
   },
   "outputs": [],
   "source": [
    "path = \"C:\\Castern\\Semester 02\\Data Science\\Project 02\\pokemon_data\\data\""
   ]
  },
  {
   "cell_type": "code",
   "execution_count": 3,
   "metadata": {
    "collapsed": true
   },
   "outputs": [],
   "source": [
    "data = {}\n",
    "collect = {}"
   ]
  },
  {
   "cell_type": "code",
   "execution_count": null,
   "metadata": {
    "collapsed": true
   },
   "outputs": [],
   "source": [
    "for filename in os.listdir(path):\n",
    "    for a in filename[2:3]:\n",
    "        subpath = os.path.join(path,filename)\n",
    "        #print(subpath)\n",
    "        for each_path in os.listdir(subpath)[3:4]:\n",
    "            subsubfile = os.path.join(subpath,each_path)\n",
    "            #print(subsubfile)\n",
    "            \n",
    "            if each_path.endswith('ios.html'):\n",
    "                \n",
    "                year = int(subsubfile[65:69])\n",
    "                month = int(subsubfile[70:72])\n",
    "                day = int(subsubfile[73:75])\n",
    "                hour = int(subsubfile[76:78])\n",
    "                minute = int(subsubfile[79:81])\n",
    "                date = datetime.datetime(year,month,day,hour,minute)\n",
    "               \n",
    "                infile = open(subsubfile)\n",
    "                content = infile.read()\n",
    "                soup = BeautifulSoup(content, \"lxml\")\n",
    "               \n",
    "               \n",
    "                date = datetime.datetime(year,month,day,hour,minute)\n",
    "                try:\n",
    "                   cust_rating = soup.find_all('span', {'class':'rating-count'})[0].text\n",
    "                   collect['ios_current_rating'] = cust_rating\n",
    "                except:\n",
    "                   collect['ios_current_rating'] = \"ios_current_rating_na\"\n",
    "                   \n",
    "                try:\n",
    "                   all_ratings = soup.find_all('span ', {'class':'rating-count'})[2].text\n",
    "                   collect['ios_all_ratings'] = all_ratings\n",
    "                except:\n",
    "                   collect['ios_all_ratings'] = \"ios_all_ratings_na\"\n",
    "                   \n",
    "                try:\n",
    "                   ios_file_size = soup.find_all('li', {'class':'list'})[0].text\n",
    "                   if ios_file_size.endswith('B'):\n",
    "                       collect['ios_file_size'] = ios_file_size\n",
    "                except:\n",
    "                   collect['ios_file_size'] = \"ios_file_size_na\"\n",
    "                infile.close()\n",
    "dataframe =  pd.DataFrame(data).transpose().head()\n",
    "print dataframe\n",
    "dataframe.to_csv(\"csv_file.csv\",sep=\",\")\n",
    "#need to import something for excel , don't know what\n",
    "#writer = ExcelWriter('excel_file.xlsx')\n",
    "#dataframe.to_excel(writer,'Sheet1')\n",
    "#writer.save()\n",
    "with open('json_file_android.json', 'w') as f:\n",
    "    f.write(dataframe.to_json(orient='records'))\n",
    "               \n",
    "               "
   ]
  }
 ],
 "metadata": {
  "anaconda-cloud": {},
  "kernelspec": {
   "display_name": "Python 2",
   "language": "python",
   "name": "python2"
  },
  "language_info": {
   "codemirror_mode": {
    "name": "ipython",
    "version": 2
   },
   "file_extension": ".py",
   "mimetype": "text/x-python",
   "name": "python",
   "nbconvert_exporter": "python",
   "pygments_lexer": "ipython2",
   "version": "2.7.12"
  }
 },
 "nbformat": 4,
 "nbformat_minor": 1
}
